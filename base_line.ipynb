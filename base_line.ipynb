{
 "cells": [
  {
   "cell_type": "code",
   "execution_count": 1,
   "id": "bdc97eb6",
   "metadata": {
    "execution": {
     "iopub.execute_input": "2022-09-19T19:16:13.487301Z",
     "iopub.status.busy": "2022-09-19T19:16:13.486384Z",
     "iopub.status.idle": "2022-09-19T19:16:16.903888Z",
     "shell.execute_reply": "2022-09-19T19:16:16.902950Z"
    },
    "papermill": {
     "duration": 3.433278,
     "end_time": "2022-09-19T19:16:16.906449",
     "exception": false,
     "start_time": "2022-09-19T19:16:13.473171",
     "status": "completed"
    },
    "tags": []
   },
   "outputs": [],
   "source": [
    "import pandas as pd\n",
    "import matplotlib.pyplot as plt\n",
    "import numpy as np\n",
    "import gc\n",
    "from PIL import Image, ImageOps\n",
    "#Image.MAX_IMAGE_PIXELS = 5000000000 \n",
    "import os\n",
    "import gc\n",
    "import cv2\n",
    "import torch\n",
    "from torch import nn as nn\n",
    "import shutil\n",
    "import matplotlib.pyplot as plt\n",
    "import random\n",
    "\n",
    "import torchvision\n",
    "import torchvision.transforms as tt\n",
    "import torch.nn.functional as F\n",
    "from torch.utils.data import Dataset, DataLoader\n",
    "import torch.optim as optim\n",
    "from torch.optim import lr_scheduler\n",
    "from sklearn.model_selection import train_test_split\n",
    "from skimage import io\n",
    "from tqdm import tqdm\n",
    "\n",
    "import warnings\n",
    "warnings.filterwarnings(\"ignore\")\n",
    "gc.enable()"
   ]
  },
  {
   "cell_type": "code",
   "execution_count": 2,
   "id": "e9126b7e",
   "metadata": {
    "execution": {
     "iopub.execute_input": "2022-09-19T19:16:16.923973Z",
     "iopub.status.busy": "2022-09-19T19:16:16.923356Z",
     "iopub.status.idle": "2022-09-19T19:16:16.928604Z",
     "shell.execute_reply": "2022-09-19T19:16:16.927731Z"
    },
    "papermill": {
     "duration": 0.015931,
     "end_time": "2022-09-19T19:16:16.930598",
     "exception": false,
     "start_time": "2022-09-19T19:16:16.914667",
     "status": "completed"
    },
    "tags": []
   },
   "outputs": [],
   "source": [
    "random_seedushka = 1"
   ]
  },
  {
   "cell_type": "code",
   "execution_count": 3,
   "id": "059b05e0",
   "metadata": {
    "execution": {
     "iopub.execute_input": "2022-09-19T19:16:16.947841Z",
     "iopub.status.busy": "2022-09-19T19:16:16.946978Z",
     "iopub.status.idle": "2022-09-19T19:16:16.954373Z",
     "shell.execute_reply": "2022-09-19T19:16:16.953583Z"
    },
    "papermill": {
     "duration": 0.017834,
     "end_time": "2022-09-19T19:16:16.956273",
     "exception": false,
     "start_time": "2022-09-19T19:16:16.938439",
     "status": "completed"
    },
    "tags": []
   },
   "outputs": [],
   "source": [
    "#random.seed(random_seedushka)\n",
    "np.random.seed(random_seedushka)\n",
    "torch.manual_seed(random_seedushka)\n",
    "torch.cuda.manual_seed(random_seedushka)\n",
    "torch.backends.cudnn.deterministic = True"
   ]
  },
  {
   "cell_type": "code",
   "execution_count": 4,
   "id": "28c10e11",
   "metadata": {
    "execution": {
     "iopub.execute_input": "2022-09-19T19:16:16.973157Z",
     "iopub.status.busy": "2022-09-19T19:16:16.972358Z",
     "iopub.status.idle": "2022-09-19T19:16:17.085523Z",
     "shell.execute_reply": "2022-09-19T19:16:17.084666Z"
    },
    "papermill": {
     "duration": 0.123912,
     "end_time": "2022-09-19T19:16:17.087846",
     "exception": false,
     "start_time": "2022-09-19T19:16:16.963934",
     "status": "completed"
    },
    "tags": []
   },
   "outputs": [],
   "source": [
    "class ImgDataset(Dataset):\n",
    "    def __init__(self, CE_image_paths , LAA_image_paths, root_path,  transform=None):\n",
    "        self.CE_image_paths = CE_image_paths\n",
    "        self.LAA_image_paths = LAA_image_paths\n",
    "        self.transform = transform\n",
    "        self.all_images = self.CE_image_paths + self.LAA_image_paths\n",
    "        #self.first = len(CE_image_paths)\n",
    "        #self.second = len(self.all_images)\n",
    "        self.length = len(CE_image_paths)+len(LAA_image_paths)\n",
    "        \n",
    "        \n",
    "    def __len__(self):\n",
    "        return self.length\n",
    "    \n",
    "    def __getitem__(self, index):\n",
    "        \n",
    "        img_name, label = self.all_images[index]\n",
    "        \n",
    "        image = np.asarray(Image.open(img_name))\n",
    "        \n",
    "\n",
    "        if self.transform:\n",
    "            image = self.transform(image)\n",
    "        \n",
    "        return image, label"
   ]
  },
  {
   "cell_type": "code",
   "execution_count": 5,
   "id": "2653682b",
   "metadata": {
    "execution": {
     "iopub.execute_input": "2022-09-19T19:16:17.105877Z",
     "iopub.status.busy": "2022-09-19T19:16:17.105603Z",
     "iopub.status.idle": "2022-09-19T19:16:17.110381Z",
     "shell.execute_reply": "2022-09-19T19:16:17.109575Z"
    },
    "papermill": {
     "duration": 0.015555,
     "end_time": "2022-09-19T19:16:17.112299",
     "exception": false,
     "start_time": "2022-09-19T19:16:17.096744",
     "status": "completed"
    },
    "tags": []
   },
   "outputs": [],
   "source": [
    "CE_path = \"../input/mayo-clinic/First Experiment/train/CE\"\n",
    "LAA_path = \"../input/mayo-clinic/First Experiment/train/LAA\""
   ]
  },
  {
   "cell_type": "code",
   "execution_count": 6,
   "id": "35019ac8",
   "metadata": {
    "execution": {
     "iopub.execute_input": "2022-09-19T19:16:17.129045Z",
     "iopub.status.busy": "2022-09-19T19:16:17.128276Z",
     "iopub.status.idle": "2022-09-19T19:16:18.293944Z",
     "shell.execute_reply": "2022-09-19T19:16:18.292940Z"
    },
    "papermill": {
     "duration": 1.176869,
     "end_time": "2022-09-19T19:16:18.296761",
     "exception": false,
     "start_time": "2022-09-19T19:16:17.119892",
     "status": "completed"
    },
    "tags": []
   },
   "outputs": [],
   "source": [
    "CE_images = os.listdir(CE_path)\n",
    "LAA_images = os.listdir(LAA_path)\n",
    "root_path = \"../input/mayo-clinic/First Experiment/train/\"\n",
    "\n",
    "\n",
    "transform = tt.Compose([\n",
    "            tt.ToTensor(),\n",
    "            tt.Resize((512,512))\n",
    "            ])\n",
    "\n"
   ]
  },
  {
   "cell_type": "code",
   "execution_count": 7,
   "id": "c65f4dfe",
   "metadata": {
    "execution": {
     "iopub.execute_input": "2022-09-19T19:16:18.328096Z",
     "iopub.status.busy": "2022-09-19T19:16:18.327330Z",
     "iopub.status.idle": "2022-09-19T19:16:19.642555Z",
     "shell.execute_reply": "2022-09-19T19:16:19.641584Z"
    },
    "papermill": {
     "duration": 1.329977,
     "end_time": "2022-09-19T19:16:19.645155",
     "exception": false,
     "start_time": "2022-09-19T19:16:18.315178",
     "status": "completed"
    },
    "tags": []
   },
   "outputs": [],
   "source": [
    "LAA_image_paths = [(root_path + \"LAA/\" + x, torch.tensor([1]).float()) for x in LAA_images]\n",
    "CE_image_paths = [(root_path + \"CE/\" + x, torch.tensor([0]).float()) for x in CE_images]"
   ]
  },
  {
   "cell_type": "code",
   "execution_count": 8,
   "id": "c14567a0",
   "metadata": {
    "execution": {
     "iopub.execute_input": "2022-09-19T19:16:19.663120Z",
     "iopub.status.busy": "2022-09-19T19:16:19.662819Z",
     "iopub.status.idle": "2022-09-19T19:16:19.668835Z",
     "shell.execute_reply": "2022-09-19T19:16:19.667807Z"
    },
    "papermill": {
     "duration": 0.017958,
     "end_time": "2022-09-19T19:16:19.671167",
     "exception": false,
     "start_time": "2022-09-19T19:16:19.653209",
     "status": "completed"
    },
    "tags": []
   },
   "outputs": [],
   "source": [
    "def clean_dataset(paths, val = 219):\n",
    "    indx = []\n",
    "    for idx, (im_name, _)  in enumerate(paths):\n",
    "        a = np.asarray(Image.open(im_name))\n",
    "        if (a == val).all():\n",
    "            indx.append(idx)\n",
    "    copied = np.array(paths)\n",
    "\n",
    "    copied = np.delete(copied, indx,0)\n",
    "    return copied.tolist()"
   ]
  },
  {
   "cell_type": "code",
   "execution_count": 9,
   "id": "7e90a797",
   "metadata": {
    "execution": {
     "iopub.execute_input": "2022-09-19T19:16:19.687700Z",
     "iopub.status.busy": "2022-09-19T19:16:19.687408Z",
     "iopub.status.idle": "2022-09-19T19:16:19.691328Z",
     "shell.execute_reply": "2022-09-19T19:16:19.690493Z"
    },
    "papermill": {
     "duration": 0.01444,
     "end_time": "2022-09-19T19:16:19.693252",
     "exception": false,
     "start_time": "2022-09-19T19:16:19.678812",
     "status": "completed"
    },
    "tags": []
   },
   "outputs": [],
   "source": [
    "#CE_image_paths = clean_dataset(CE_image_paths)\n",
    "#LAA_image_paths = clean_dataset(LAA_image_paths)"
   ]
  },
  {
   "cell_type": "code",
   "execution_count": 10,
   "id": "a4b8593a",
   "metadata": {
    "execution": {
     "iopub.execute_input": "2022-09-19T19:16:19.710167Z",
     "iopub.status.busy": "2022-09-19T19:16:19.709327Z",
     "iopub.status.idle": "2022-09-19T19:16:19.715360Z",
     "shell.execute_reply": "2022-09-19T19:16:19.714560Z"
    },
    "papermill": {
     "duration": 0.016431,
     "end_time": "2022-09-19T19:16:19.717265",
     "exception": false,
     "start_time": "2022-09-19T19:16:19.700834",
     "status": "completed"
    },
    "tags": []
   },
   "outputs": [],
   "source": [
    "all_images = CE_image_paths + LAA_image_paths"
   ]
  },
  {
   "cell_type": "code",
   "execution_count": 11,
   "id": "6d3f18ab",
   "metadata": {
    "execution": {
     "iopub.execute_input": "2022-09-19T19:16:19.734923Z",
     "iopub.status.busy": "2022-09-19T19:16:19.733528Z",
     "iopub.status.idle": "2022-09-19T19:16:19.739220Z",
     "shell.execute_reply": "2022-09-19T19:16:19.738383Z"
    },
    "papermill": {
     "duration": 0.016104,
     "end_time": "2022-09-19T19:16:19.741120",
     "exception": false,
     "start_time": "2022-09-19T19:16:19.725016",
     "status": "completed"
    },
    "tags": []
   },
   "outputs": [],
   "source": [
    "def show_images(k=10):\n",
    "    plt.figure(figsize=(10, 10))\n",
    "    for i in range(k):\n",
    "        img_name = CE_image_paths[i][0]\n",
    "        image = np.asarray(Image.open(img_name))\n",
    "        plt.subplot(2,5,i+1)\n",
    "        plt.imshow(image,interpolation='antialiased')"
   ]
  },
  {
   "cell_type": "code",
   "execution_count": 12,
   "id": "c8ff49ac",
   "metadata": {
    "execution": {
     "iopub.execute_input": "2022-09-19T19:16:19.757820Z",
     "iopub.status.busy": "2022-09-19T19:16:19.757072Z",
     "iopub.status.idle": "2022-09-19T19:16:21.233396Z",
     "shell.execute_reply": "2022-09-19T19:16:21.232565Z"
    },
    "papermill": {
     "duration": 1.490187,
     "end_time": "2022-09-19T19:16:21.238827",
     "exception": false,
     "start_time": "2022-09-19T19:16:19.748640",
     "status": "completed"
    },
    "tags": []
   },
   "outputs": [
    {
     "data": {
      "image/png": "[encoded data removed]",
      "text/plain": [
       "<Figure size 720x720 with 10 Axes>"
      ]
     },
     "metadata": {
      "needs_background": "light"
     },
     "output_type": "display_data"
    }
   ],
   "source": [
    "show_images()"
   ]
  },
  {
   "cell_type": "code",
   "execution_count": 13,
   "id": "619c1415",
   "metadata": {
    "execution": {
     "iopub.execute_input": "2022-09-19T19:16:21.265384Z",
     "iopub.status.busy": "2022-09-19T19:16:21.264990Z",
     "iopub.status.idle": "2022-09-19T19:16:21.276351Z",
     "shell.execute_reply": "2022-09-19T19:16:21.275147Z"
    },
    "papermill": {
     "duration": 0.027066,
     "end_time": "2022-09-19T19:16:21.278375",
     "exception": false,
     "start_time": "2022-09-19T19:16:21.251309",
     "status": "completed"
    },
    "tags": []
   },
   "outputs": [
    {
     "name": "stdout",
     "output_type": "stream",
     "text": [
      "CE: 81630 LAA: 43207\n"
     ]
    }
   ],
   "source": [
    "print(f\"CE: {len(CE_image_paths)} LAA: {len(LAA_image_paths)}\")"
   ]
  },
  {
   "cell_type": "code",
   "execution_count": 14,
   "id": "348d9b43",
   "metadata": {
    "execution": {
     "iopub.execute_input": "2022-09-19T19:16:21.302528Z",
     "iopub.status.busy": "2022-09-19T19:16:21.301616Z",
     "iopub.status.idle": "2022-09-19T19:16:21.307904Z",
     "shell.execute_reply": "2022-09-19T19:16:21.307006Z"
    },
    "papermill": {
     "duration": 0.020946,
     "end_time": "2022-09-19T19:16:21.310106",
     "exception": false,
     "start_time": "2022-09-19T19:16:21.289160",
     "status": "completed"
    },
    "tags": []
   },
   "outputs": [],
   "source": [
    "dataset = ImgDataset(CE_image_paths, LAA_image_paths, root_path, transform)"
   ]
  },
  {
   "cell_type": "code",
   "execution_count": 15,
   "id": "56b2f909",
   "metadata": {
    "execution": {
     "iopub.execute_input": "2022-09-19T19:16:21.334198Z",
     "iopub.status.busy": "2022-09-19T19:16:21.333472Z",
     "iopub.status.idle": "2022-09-19T19:16:21.383683Z",
     "shell.execute_reply": "2022-09-19T19:16:21.382497Z"
    },
    "papermill": {
     "duration": 0.064506,
     "end_time": "2022-09-19T19:16:21.385798",
     "exception": false,
     "start_time": "2022-09-19T19:16:21.321292",
     "status": "completed"
    },
    "tags": []
   },
   "outputs": [
    {
     "data": {
      "text/plain": [
       "(512, 512)"
      ]
     },
     "execution_count": 15,
     "metadata": {},
     "output_type": "execute_result"
    }
   ],
   "source": [
    "dataset[0][0].numpy()[0].shape"
   ]
  },
  {
   "cell_type": "code",
   "execution_count": 16,
   "id": "228eb0aa",
   "metadata": {
    "execution": {
     "iopub.execute_input": "2022-09-19T19:16:21.409788Z",
     "iopub.status.busy": "2022-09-19T19:16:21.408423Z",
     "iopub.status.idle": "2022-09-19T19:16:21.413393Z",
     "shell.execute_reply": "2022-09-19T19:16:21.412542Z"
    },
    "papermill": {
     "duration": 0.018549,
     "end_time": "2022-09-19T19:16:21.415363",
     "exception": false,
     "start_time": "2022-09-19T19:16:21.396814",
     "status": "completed"
    },
    "tags": []
   },
   "outputs": [],
   "source": [
    "val_size = int(len(all_images)*0.2)\n",
    "train_size = len(all_images)- int(len(all_images)*0.2)"
   ]
  },
  {
   "cell_type": "code",
   "execution_count": 17,
   "id": "acaf0f17",
   "metadata": {
    "execution": {
     "iopub.execute_input": "2022-09-19T19:16:21.438096Z",
     "iopub.status.busy": "2022-09-19T19:16:21.437208Z",
     "iopub.status.idle": "2022-09-19T19:16:21.444263Z",
     "shell.execute_reply": "2022-09-19T19:16:21.443431Z"
    },
    "papermill": {
     "duration": 0.020523,
     "end_time": "2022-09-19T19:16:21.446275",
     "exception": false,
     "start_time": "2022-09-19T19:16:21.425752",
     "status": "completed"
    },
    "tags": []
   },
   "outputs": [],
   "source": [
    "testing = True\n",
    "testing_num = 5000\n",
    "if testing:\n",
    "    dataset = ImgDataset(CE_image_paths[:testing_num], LAA_image_paths[:testing_num], root_path, transform)\n",
    "    val_size = int(len(all_images[:testing_num])*0.2) * 2\n",
    "    train_size = 2*(len(all_images[:testing_num])- int(len(all_images[:testing_num])*0.2))"
   ]
  },
  {
   "cell_type": "code",
   "execution_count": 18,
   "id": "06ce966e",
   "metadata": {
    "execution": {
     "iopub.execute_input": "2022-09-19T19:16:21.468398Z",
     "iopub.status.busy": "2022-09-19T19:16:21.468149Z",
     "iopub.status.idle": "2022-09-19T19:16:21.473081Z",
     "shell.execute_reply": "2022-09-19T19:16:21.472231Z"
    },
    "papermill": {
     "duration": 0.018287,
     "end_time": "2022-09-19T19:16:21.475005",
     "exception": false,
     "start_time": "2022-09-19T19:16:21.456718",
     "status": "completed"
    },
    "tags": []
   },
   "outputs": [],
   "source": [
    "train_set, test_set = torch.utils.data.random_split(dataset, [train_size,val_size])"
   ]
  },
  {
   "cell_type": "code",
   "execution_count": 19,
   "id": "ff49f271",
   "metadata": {
    "execution": {
     "iopub.execute_input": "2022-09-19T19:16:21.498211Z",
     "iopub.status.busy": "2022-09-19T19:16:21.496833Z",
     "iopub.status.idle": "2022-09-19T19:16:21.502627Z",
     "shell.execute_reply": "2022-09-19T19:16:21.501383Z"
    },
    "papermill": {
     "duration": 0.019189,
     "end_time": "2022-09-19T19:16:21.504603",
     "exception": false,
     "start_time": "2022-09-19T19:16:21.485414",
     "status": "completed"
    },
    "tags": []
   },
   "outputs": [
    {
     "name": "stdout",
     "output_type": "stream",
     "text": [
      "train: 8000 test: 2000\n"
     ]
    }
   ],
   "source": [
    "print(f\"train: {len(train_set)} test: {len(test_set)}\")"
   ]
  },
  {
   "cell_type": "code",
   "execution_count": 20,
   "id": "b0f170d3",
   "metadata": {
    "execution": {
     "iopub.execute_input": "2022-09-19T19:16:21.526868Z",
     "iopub.status.busy": "2022-09-19T19:16:21.526615Z",
     "iopub.status.idle": "2022-09-19T19:16:21.530198Z",
     "shell.execute_reply": "2022-09-19T19:16:21.529241Z"
    },
    "papermill": {
     "duration": 0.017086,
     "end_time": "2022-09-19T19:16:21.532096",
     "exception": false,
     "start_time": "2022-09-19T19:16:21.515010",
     "status": "completed"
    },
    "tags": []
   },
   "outputs": [],
   "source": [
    "BATCH_SIZE = 16"
   ]
  },
  {
   "cell_type": "code",
   "execution_count": 21,
   "id": "9e01202c",
   "metadata": {
    "execution": {
     "iopub.execute_input": "2022-09-19T19:16:21.554931Z",
     "iopub.status.busy": "2022-09-19T19:16:21.554093Z",
     "iopub.status.idle": "2022-09-19T19:16:21.559309Z",
     "shell.execute_reply": "2022-09-19T19:16:21.558473Z"
    },
    "papermill": {
     "duration": 0.018714,
     "end_time": "2022-09-19T19:16:21.561242",
     "exception": false,
     "start_time": "2022-09-19T19:16:21.542528",
     "status": "completed"
    },
    "tags": []
   },
   "outputs": [],
   "source": [
    "train_loader = DataLoader(dataset=train_set, batch_size=BATCH_SIZE, shuffle=True, num_workers = 3)\n",
    "test_loader = DataLoader(dataset=test_set, batch_size=BATCH_SIZE, shuffle=False, num_workers = 3)"
   ]
  },
  {
   "cell_type": "code",
   "execution_count": 22,
   "id": "429be054",
   "metadata": {
    "execution": {
     "iopub.execute_input": "2022-09-19T19:16:21.583830Z",
     "iopub.status.busy": "2022-09-19T19:16:21.583565Z",
     "iopub.status.idle": "2022-09-19T19:16:21.649851Z",
     "shell.execute_reply": "2022-09-19T19:16:21.648859Z"
    },
    "papermill": {
     "duration": 0.080099,
     "end_time": "2022-09-19T19:16:21.651901",
     "exception": false,
     "start_time": "2022-09-19T19:16:21.571802",
     "status": "completed"
    },
    "tags": []
   },
   "outputs": [
    {
     "data": {
      "text/plain": [
       "device(type='cuda')"
      ]
     },
     "execution_count": 22,
     "metadata": {},
     "output_type": "execute_result"
    }
   ],
   "source": [
    "DEVICE = torch.device('cuda' if torch.cuda.is_available() else 'cpu')\n",
    "DEVICE"
   ]
  },
  {
   "cell_type": "code",
   "execution_count": 23,
   "id": "100ee1c0",
   "metadata": {
    "execution": {
     "iopub.execute_input": "2022-09-19T19:16:21.675714Z",
     "iopub.status.busy": "2022-09-19T19:16:21.674912Z",
     "iopub.status.idle": "2022-09-19T19:16:21.681265Z",
     "shell.execute_reply": "2022-09-19T19:16:21.680319Z"
    },
    "papermill": {
     "duration": 0.020333,
     "end_time": "2022-09-19T19:16:21.683260",
     "exception": false,
     "start_time": "2022-09-19T19:16:21.662927",
     "status": "completed"
    },
    "tags": []
   },
   "outputs": [
    {
     "data": {
      "text/plain": [
       "'\\nmodel = torchvision.models.resnet.resnet50()\\n\\nmodel.conv1 = nn.Conv2d(1, 64, kernel_size=(7, 7), stride=(2, 2), padding=(3, 3), bias=False)\\nmodel.fc = nn.Sequential(\\n    nn.Linear(in_features=2048, out_features=256, bias=True),\\n    nn.BatchNorm1d(256),\\n    nn.Dropout(p=0.25),\\n    nn.Linear(in_features=256, out_features=1, bias=True)    \\n)\\n'"
      ]
     },
     "execution_count": 23,
     "metadata": {},
     "output_type": "execute_result"
    }
   ],
   "source": [
    "\n",
    "\"\"\"\n",
    "model = torchvision.models.resnet.resnet50()\n",
    "\n",
    "model.conv1 = nn.Conv2d(1, 64, kernel_size=(7, 7), stride=(2, 2), padding=(3, 3), bias=False)\n",
    "model.fc = nn.Sequential(\n",
    "    nn.Linear(in_features=2048, out_features=256, bias=True),\n",
    "    nn.BatchNorm1d(256),\n",
    "    nn.Dropout(p=0.25),\n",
    "    nn.Linear(in_features=256, out_features=1, bias=True)    \n",
    ")\n",
    "\"\"\""
   ]
  },
  {
   "cell_type": "code",
   "execution_count": 24,
   "id": "11df30e9",
   "metadata": {
    "execution": {
     "iopub.execute_input": "2022-09-19T19:16:21.706695Z",
     "iopub.status.busy": "2022-09-19T19:16:21.705860Z",
     "iopub.status.idle": "2022-09-19T19:16:21.711941Z",
     "shell.execute_reply": "2022-09-19T19:16:21.711057Z"
    },
    "papermill": {
     "duration": 0.020013,
     "end_time": "2022-09-19T19:16:21.714078",
     "exception": false,
     "start_time": "2022-09-19T19:16:21.694065",
     "status": "completed"
    },
    "tags": []
   },
   "outputs": [
    {
     "data": {
      "text/plain": [
       "'\\nmodel = torchvision.models.resnet.resnet50()\\n\\nmodel.conv1 = nn.Conv2d(1, 64, kernel_size=(7, 7), stride=(2, 2), padding=(3, 3), bias=False)\\nmodel.fc = nn.Linear(in_features=2048, out_features=1, bias=True)\\n'"
      ]
     },
     "execution_count": 24,
     "metadata": {},
     "output_type": "execute_result"
    }
   ],
   "source": [
    "\"\"\"\n",
    "model = torchvision.models.resnet.resnet50()\n",
    "\n",
    "model.conv1 = nn.Conv2d(1, 64, kernel_size=(7, 7), stride=(2, 2), padding=(3, 3), bias=False)\n",
    "model.fc = nn.Linear(in_features=2048, out_features=1, bias=True)\n",
    "\"\"\"\n"
   ]
  },
  {
   "cell_type": "code",
   "execution_count": 25,
   "id": "11a9964c",
   "metadata": {
    "execution": {
     "iopub.execute_input": "2022-09-19T19:16:21.737362Z",
     "iopub.status.busy": "2022-09-19T19:16:21.736527Z",
     "iopub.status.idle": "2022-09-19T19:16:21.743044Z",
     "shell.execute_reply": "2022-09-19T19:16:21.741994Z"
    },
    "papermill": {
     "duration": 0.020307,
     "end_time": "2022-09-19T19:16:21.745167",
     "exception": false,
     "start_time": "2022-09-19T19:16:21.724860",
     "status": "completed"
    },
    "tags": []
   },
   "outputs": [
    {
     "data": {
      "text/plain": [
       "'\\nmodel = torchvision.models.resnet.resnet50()\\n\\nmodel.conv1 = nn.Conv2d(1, 64, kernel_size=(7, 7), stride=(2, 2), padding=(3, 3), bias=False)\\nmodel.fc = nn.Sequential(\\n    nn.Linear(in_features=2048, out_features=128, bias=True),\\n    nn.BatchNorm1d(128),\\n    nn.Dropout(p=0.3),\\n    nn.Linear(in_features=128, out_features=1, bias=True))\\n'"
      ]
     },
     "execution_count": 25,
     "metadata": {},
     "output_type": "execute_result"
    }
   ],
   "source": [
    "\"\"\"\n",
    "model = torchvision.models.resnet.resnet50()\n",
    "\n",
    "model.conv1 = nn.Conv2d(1, 64, kernel_size=(7, 7), stride=(2, 2), padding=(3, 3), bias=False)\n",
    "model.fc = nn.Sequential(\n",
    "    nn.Linear(in_features=2048, out_features=128, bias=True),\n",
    "    nn.BatchNorm1d(128),\n",
    "    nn.Dropout(p=0.3),\n",
    "    nn.Linear(in_features=128, out_features=1, bias=True))\n",
    "\"\"\""
   ]
  },
  {
   "cell_type": "code",
   "execution_count": 26,
   "id": "a8d13682",
   "metadata": {
    "execution": {
     "iopub.execute_input": "2022-09-19T19:16:21.768475Z",
     "iopub.status.busy": "2022-09-19T19:16:21.768208Z",
     "iopub.status.idle": "2022-09-19T19:16:21.773618Z",
     "shell.execute_reply": "2022-09-19T19:16:21.772745Z"
    },
    "papermill": {
     "duration": 0.01941,
     "end_time": "2022-09-19T19:16:21.775623",
     "exception": false,
     "start_time": "2022-09-19T19:16:21.756213",
     "status": "completed"
    },
    "tags": []
   },
   "outputs": [
    {
     "data": {
      "text/plain": [
       "'\\nmodel = torchvision.models.resnet.resnet34()\\nmodel.conv1 = nn.Conv2d(1, 64, kernel_size=(7, 7), stride=(2, 2), padding=(3, 3), bias=False)\\nmodel.fc = nn.Sequential(\\n    nn.Linear(in_features=512, out_features=128, bias=True),\\n    nn.BatchNorm1d(128),\\n    nn.Dropout(p=0.25),\\n    nn.Linear(in_features=128, out_features=1, bias=True)\\n)\\n'"
      ]
     },
     "execution_count": 26,
     "metadata": {},
     "output_type": "execute_result"
    }
   ],
   "source": [
    "\"\"\"\n",
    "model = torchvision.models.resnet.resnet34()\n",
    "model.conv1 = nn.Conv2d(1, 64, kernel_size=(7, 7), stride=(2, 2), padding=(3, 3), bias=False)\n",
    "model.fc = nn.Sequential(\n",
    "    nn.Linear(in_features=512, out_features=128, bias=True),\n",
    "    nn.BatchNorm1d(128),\n",
    "    nn.Dropout(p=0.25),\n",
    "    nn.Linear(in_features=128, out_features=1, bias=True)\n",
    ")\n",
    "\"\"\"\n",
    "\n"
   ]
  },
  {
   "cell_type": "code",
   "execution_count": 27,
   "id": "3dadcfa8",
   "metadata": {
    "execution": {
     "iopub.execute_input": "2022-09-19T19:16:21.798675Z",
     "iopub.status.busy": "2022-09-19T19:16:21.798403Z",
     "iopub.status.idle": "2022-09-19T19:16:21.803755Z",
     "shell.execute_reply": "2022-09-19T19:16:21.802844Z"
    },
    "papermill": {
     "duration": 0.019469,
     "end_time": "2022-09-19T19:16:21.805946",
     "exception": false,
     "start_time": "2022-09-19T19:16:21.786477",
     "status": "completed"
    },
    "tags": []
   },
   "outputs": [
    {
     "data": {
      "text/plain": [
       "'\\nmodel = torchvision.models.resnet.resnet18()\\n\\nmodel.conv1 = nn.Conv2d(1, 64, kernel_size=(7, 7), stride=(2, 2), padding=(3, 3), bias=False)\\nmodel.fc = nn.Linear(in_features=512, out_features=1, bias=True)\\n'"
      ]
     },
     "execution_count": 27,
     "metadata": {},
     "output_type": "execute_result"
    }
   ],
   "source": [
    "\"\"\"\n",
    "model = torchvision.models.resnet.resnet18()\n",
    "\n",
    "model.conv1 = nn.Conv2d(1, 64, kernel_size=(7, 7), stride=(2, 2), padding=(3, 3), bias=False)\n",
    "model.fc = nn.Linear(in_features=512, out_features=1, bias=True)\n",
    "\"\"\"\n",
    "\n"
   ]
  },
  {
   "cell_type": "code",
   "execution_count": 28,
   "id": "f43c4261",
   "metadata": {
    "execution": {
     "iopub.execute_input": "2022-09-19T19:16:21.829661Z",
     "iopub.status.busy": "2022-09-19T19:16:21.828800Z",
     "iopub.status.idle": "2022-09-19T19:16:21.834798Z",
     "shell.execute_reply": "2022-09-19T19:16:21.833849Z"
    },
    "papermill": {
     "duration": 0.019836,
     "end_time": "2022-09-19T19:16:21.836666",
     "exception": false,
     "start_time": "2022-09-19T19:16:21.816830",
     "status": "completed"
    },
    "tags": []
   },
   "outputs": [
    {
     "data": {
      "text/plain": [
       "'\\nmodel = torchvision.models.efficientnet_b3(pretrained=False)\\nmodel.features[0][0]= nn.Conv2d(1, 40, kernel_size=(3, 3), stride=(2, 2), padding=(1, 1), bias=False)\\nmodel.classifier[1] = nn.Linear(1536, 1)\\n'"
      ]
     },
     "execution_count": 28,
     "metadata": {},
     "output_type": "execute_result"
    }
   ],
   "source": [
    "\"\"\"\n",
    "model = torchvision.models.efficientnet_b3(pretrained=False)\n",
    "model.features[0][0]= nn.Conv2d(1, 40, kernel_size=(3, 3), stride=(2, 2), padding=(1, 1), bias=False)\n",
    "model.classifier[1] = nn.Linear(1536, 1)\n",
    "\"\"\""
   ]
  },
  {
   "cell_type": "code",
   "execution_count": 29,
   "id": "cc5c2bca",
   "metadata": {
    "execution": {
     "iopub.execute_input": "2022-09-19T19:16:21.860727Z",
     "iopub.status.busy": "2022-09-19T19:16:21.859956Z",
     "iopub.status.idle": "2022-09-19T19:16:21.971793Z",
     "shell.execute_reply": "2022-09-19T19:16:21.970907Z"
    },
    "papermill": {
     "duration": 0.126082,
     "end_time": "2022-09-19T19:16:21.973849",
     "exception": false,
     "start_time": "2022-09-19T19:16:21.847767",
     "status": "completed"
    },
    "tags": []
   },
   "outputs": [],
   "source": [
    "\n",
    "model = torchvision.models.efficientnet_b0(pretrained=False)\n",
    "model.features[0][0]= nn.Conv2d(4, 32, kernel_size=(3, 3), stride=(2, 2), padding=(1, 1), bias=False)\n",
    "model.classifier[1] = nn.Linear(1280, 1, bias=True)"
   ]
  },
  {
   "cell_type": "code",
   "execution_count": 30,
   "id": "ac298077",
   "metadata": {
    "execution": {
     "iopub.execute_input": "2022-09-19T19:16:21.998254Z",
     "iopub.status.busy": "2022-09-19T19:16:21.997460Z",
     "iopub.status.idle": "2022-09-19T19:16:22.001850Z",
     "shell.execute_reply": "2022-09-19T19:16:22.000976Z"
    },
    "papermill": {
     "duration": 0.0184,
     "end_time": "2022-09-19T19:16:22.003715",
     "exception": false,
     "start_time": "2022-09-19T19:16:21.985315",
     "status": "completed"
    },
    "tags": []
   },
   "outputs": [],
   "source": [
    "warmup = False\n",
    "lrdown = False"
   ]
  },
  {
   "cell_type": "code",
   "execution_count": 31,
   "id": "455f9475",
   "metadata": {
    "execution": {
     "iopub.execute_input": "2022-09-19T19:16:22.027648Z",
     "iopub.status.busy": "2022-09-19T19:16:22.026811Z",
     "iopub.status.idle": "2022-09-19T19:16:22.031373Z",
     "shell.execute_reply": "2022-09-19T19:16:22.030591Z"
    },
    "papermill": {
     "duration": 0.018498,
     "end_time": "2022-09-19T19:16:22.033256",
     "exception": false,
     "start_time": "2022-09-19T19:16:22.014758",
     "status": "completed"
    },
    "tags": []
   },
   "outputs": [],
   "source": [
    "LEARNING_RATE = 0.1 * (BATCH_SIZE / 256)\n",
    "N_EPOCHS = 50\n",
    "DECAY_RATE = 0.1"
   ]
  },
  {
   "cell_type": "code",
   "execution_count": 32,
   "id": "1798d293",
   "metadata": {
    "execution": {
     "iopub.execute_input": "2022-09-19T19:16:22.057148Z",
     "iopub.status.busy": "2022-09-19T19:16:22.056511Z",
     "iopub.status.idle": "2022-09-19T19:16:25.014685Z",
     "shell.execute_reply": "2022-09-19T19:16:25.013707Z"
    },
    "papermill": {
     "duration": 2.972712,
     "end_time": "2022-09-19T19:16:25.017067",
     "exception": false,
     "start_time": "2022-09-19T19:16:22.044355",
     "status": "completed"
    },
    "tags": []
   },
   "outputs": [],
   "source": [
    "criterion = nn.BCEWithLogitsLoss()\n",
    "#optimizer = optim.AdamW(model.parameters(), lr= LEARNING_RATE, amsgrad=True)#LEARNING_RATE, amsgrad=False, weight_decay=DECAY_RATE)\n",
    "#optimizer = optim.SGD(model.parameters(), lr= LEARNING_RATE)\n",
    "optimizer = optim.Adam(model.parameters(), lr= LEARNING_RATE* 5e-3, weight_decay=DECAY_RATE)\n",
    "scheduler_start = False\n",
    "if warmup:\n",
    "    for g in optimizer.param_groups:\n",
    "        g['lr'] *= 1e-5\n",
    "    scheduler_start = lr_scheduler.MultiStepLR(optimizer, milestones=[1,2,3,4,5], gamma=10.0, last_epoch = -1)\n",
    "\n",
    "\n",
    "scheduler_end = lr_scheduler.CosineAnnealingLR(optimizer, T_max = N_EPOCHS, verbose=True) \\\n",
    "                            if lrdown else False\n",
    "\n",
    "model = model.to(DEVICE)"
   ]
  },
  {
   "cell_type": "code",
   "execution_count": 33,
   "id": "8b2624ba",
   "metadata": {
    "execution": {
     "iopub.execute_input": "2022-09-19T19:16:25.043285Z",
     "iopub.status.busy": "2022-09-19T19:16:25.042975Z",
     "iopub.status.idle": "2022-09-19T19:16:25.047843Z",
     "shell.execute_reply": "2022-09-19T19:16:25.046914Z"
    },
    "papermill": {
     "duration": 0.020535,
     "end_time": "2022-09-19T19:16:25.049945",
     "exception": false,
     "start_time": "2022-09-19T19:16:25.029410",
     "status": "completed"
    },
    "tags": []
   },
   "outputs": [],
   "source": [
    "from torch.cuda.amp import autocast, GradScaler\n",
    "\n",
    "scaler = GradScaler()\n",
    "\n",
    "sigmoid = nn.Sigmoid()"
   ]
  },
  {
   "cell_type": "code",
   "execution_count": 34,
   "id": "371bbf16",
   "metadata": {
    "execution": {
     "iopub.execute_input": "2022-09-19T19:16:25.075190Z",
     "iopub.status.busy": "2022-09-19T19:16:25.074340Z",
     "iopub.status.idle": "2022-09-19T19:16:25.082462Z",
     "shell.execute_reply": "2022-09-19T19:16:25.081691Z"
    },
    "papermill": {
     "duration": 0.022105,
     "end_time": "2022-09-19T19:16:25.084407",
     "exception": false,
     "start_time": "2022-09-19T19:16:25.062302",
     "status": "completed"
    },
    "tags": []
   },
   "outputs": [],
   "source": [
    "def fit_epoch(model, train_loader, criterion, optimizer):\n",
    "    running_loss = 0.0\n",
    "    running_corrects = 0\n",
    "    processed_data = 0\n",
    "    model.train()\n",
    "\n",
    "    for inputs, labels in train_loader:\n",
    "        inputs = inputs.to(DEVICE)\n",
    "        labels = labels.to(DEVICE)\n",
    "        optimizer.zero_grad()\n",
    "\n",
    "        with autocast():\n",
    "            outputs = model(inputs)\n",
    "            loss = criterion(outputs, labels)\n",
    "\n",
    "        #loss.backward()\n",
    "        scaler.scale(loss).backward()\n",
    "        #optimizer.step()\n",
    "        scaler.step(optimizer)\n",
    "        \n",
    "        scaler.update()\n",
    "        \n",
    "        outputs = sigmoid(outputs.data)\n",
    "        preds = (outputs.flatten() >= 0.5).float()\n",
    "        running_loss += loss.item() * inputs.size(0)\n",
    "        running_corrects += torch.sum((preds == labels.data.flatten()),0)\n",
    "        processed_data += inputs.size(0)\n",
    "        \n",
    "    train_loss = running_loss / processed_data\n",
    "    train_acc = running_corrects.cpu().double() / processed_data\n",
    "    return train_loss, train_acc"
   ]
  },
  {
   "cell_type": "code",
   "execution_count": 35,
   "id": "ec61da6c",
   "metadata": {
    "execution": {
     "iopub.execute_input": "2022-09-19T19:16:25.108220Z",
     "iopub.status.busy": "2022-09-19T19:16:25.107595Z",
     "iopub.status.idle": "2022-09-19T19:16:25.114453Z",
     "shell.execute_reply": "2022-09-19T19:16:25.113546Z"
    },
    "papermill": {
     "duration": 0.020793,
     "end_time": "2022-09-19T19:16:25.116392",
     "exception": false,
     "start_time": "2022-09-19T19:16:25.095599",
     "status": "completed"
    },
    "tags": []
   },
   "outputs": [],
   "source": [
    "def eval_epoch(model, val_loader, criterion):\n",
    "    model.eval()\n",
    "    running_loss = 0.0\n",
    "    running_corrects = 0\n",
    "    processed_size = 0\n",
    "\n",
    "    for inputs, labels in val_loader:\n",
    "        inputs = inputs.to(DEVICE)\n",
    "        labels = labels.to(DEVICE)\n",
    "\n",
    "        with torch.set_grad_enabled(False):\n",
    "            outputs = model(inputs)\n",
    "            loss = criterion(outputs, labels)\n",
    "            preds = (outputs.flatten() >= 0.5).float()\n",
    "        \n",
    "        outputs = sigmoid(outputs.data)\n",
    "        running_loss += loss.item() * inputs.size(0)\n",
    "        running_corrects += torch.sum((preds == labels.data.flatten()),0)\n",
    "        processed_size += inputs.size(0)\n",
    "    val_loss = running_loss / processed_size\n",
    "    val_acc = running_corrects.cpu().double() / processed_size\n",
    "    return val_loss, val_acc"
   ]
  },
  {
   "cell_type": "code",
   "execution_count": 36,
   "id": "52d53c17",
   "metadata": {
    "execution": {
     "iopub.execute_input": "2022-09-19T19:16:25.140340Z",
     "iopub.status.busy": "2022-09-19T19:16:25.139835Z",
     "iopub.status.idle": "2022-09-19T19:16:25.147501Z",
     "shell.execute_reply": "2022-09-19T19:16:25.146598Z"
    },
    "papermill": {
     "duration": 0.02163,
     "end_time": "2022-09-19T19:16:25.149443",
     "exception": false,
     "start_time": "2022-09-19T19:16:25.127813",
     "status": "completed"
    },
    "tags": []
   },
   "outputs": [],
   "source": [
    "def train(train_loader, val_loader, model):\n",
    "\n",
    "    history = []\n",
    "    log_template = \"\\nEpoch {ep:03d} train_loss: {t_loss:0.4f} \\\n",
    "    val_loss {v_loss:0.4f} train_acc {t_acc:0.4f} val_acc {v_acc:0.4f}\"\n",
    "    \n",
    "    last_acc = 0\n",
    "\n",
    "    with tqdm(desc=\"epoch\", total=N_EPOCHS) as pbar_outer:\n",
    "\n",
    "        for epoch in range(N_EPOCHS):\n",
    "            train_loss, train_acc = fit_epoch(model, train_loader, criterion, optimizer)\n",
    "            print(\"loss\", train_loss)\n",
    "            \n",
    "            val_loss, val_acc = eval_epoch(model, val_loader, criterion)\n",
    "            history.append((train_loss, train_acc, val_loss, val_acc))\n",
    "            \n",
    "            if val_acc > last_acc:\n",
    "                last_acc = val_acc\n",
    "                torch.save(model.state_dict(), str(epoch+1)+TRAIN_PATH)\n",
    "            \n",
    "            pbar_outer.update(1)\n",
    "            tqdm.write(log_template.format(ep=epoch+1, t_loss=train_loss,\\\n",
    "                                           v_loss=val_loss, t_acc=train_acc, v_acc=val_acc))\n",
    "            if warmup:\n",
    "                scheduler_start.step()\n",
    "            if lrdown:\n",
    "                scheduler_end.step()\n",
    "            \n",
    "    return history"
   ]
  },
  {
   "cell_type": "code",
   "execution_count": 37,
   "id": "14e32f88",
   "metadata": {
    "execution": {
     "iopub.execute_input": "2022-09-19T19:16:25.173007Z",
     "iopub.status.busy": "2022-09-19T19:16:25.172487Z",
     "iopub.status.idle": "2022-09-19T19:16:25.176365Z",
     "shell.execute_reply": "2022-09-19T19:16:25.175506Z"
    },
    "papermill": {
     "duration": 0.017645,
     "end_time": "2022-09-19T19:16:25.178256",
     "exception": false,
     "start_time": "2022-09-19T19:16:25.160611",
     "status": "completed"
    },
    "tags": []
   },
   "outputs": [],
   "source": [
    "TRAIN_PATH = \"running_checkpoint.pt\""
   ]
  },
  {
   "cell_type": "code",
   "execution_count": 38,
   "id": "8596b86a",
   "metadata": {
    "execution": {
     "iopub.execute_input": "2022-09-19T19:16:25.202103Z",
     "iopub.status.busy": "2022-09-19T19:16:25.201243Z",
     "iopub.status.idle": "2022-09-19T22:35:22.138515Z",
     "shell.execute_reply": "2022-09-19T22:35:22.137594Z"
    },
    "papermill": {
     "duration": 11936.979707,
     "end_time": "2022-09-19T22:35:22.169009",
     "exception": false,
     "start_time": "2022-09-19T19:16:25.189302",
     "status": "completed"
    },
    "tags": []
   },
   "outputs": [
    {
     "name": "stderr",
     "output_type": "stream",
     "text": [
      "epoch:   0%|          | 0/50 [00:00<?, ?it/s]"
     ]
    },
    {
     "name": "stdout",
     "output_type": "stream",
     "text": [
      "loss 0.6890376077890397\n"
     ]
    },
    {
     "name": "stderr",
     "output_type": "stream",
     "text": [
      "epoch:   2%|▏         | 1/50 [04:34<3:44:17, 274.64s/it]"
     ]
    },
    {
     "name": "stdout",
     "output_type": "stream",
     "text": [
      "\n",
      "Epoch 001 train_loss: 0.6890     val_loss 0.6842 train_acc 0.5421 val_acc 0.5105\n",
      "loss 0.6785891275405884\n"
     ]
    },
    {
     "name": "stderr",
     "output_type": "stream",
     "text": [
      "epoch:   4%|▍         | 2/50 [08:33<3:22:43, 253.42s/it]"
     ]
    },
    {
     "name": "stdout",
     "output_type": "stream",
     "text": [
      "\n",
      "Epoch 002 train_loss: 0.6786     val_loss 0.6829 train_acc 0.5746 val_acc 0.5165\n",
      "loss 0.6685338425636291\n"
     ]
    },
    {
     "name": "stderr",
     "output_type": "stream",
     "text": [
      "epoch:   6%|▌         | 3/50 [12:37<3:15:22, 249.42s/it]"
     ]
    },
    {
     "name": "stdout",
     "output_type": "stream",
     "text": [
      "\n",
      "Epoch 003 train_loss: 0.6685     val_loss 0.6611 train_acc 0.5945 val_acc 0.5705\n",
      "loss 0.6688069527149201\n"
     ]
    },
    {
     "name": "stderr",
     "output_type": "stream",
     "text": [
      "epoch:   8%|▊         | 4/50 [16:38<3:08:39, 246.09s/it]"
     ]
    },
    {
     "name": "stdout",
     "output_type": "stream",
     "text": [
      "\n",
      "Epoch 004 train_loss: 0.6688     val_loss 0.6568 train_acc 0.5941 val_acc 0.6015\n",
      "loss 0.6636808571815491\n"
     ]
    },
    {
     "name": "stderr",
     "output_type": "stream",
     "text": [
      "epoch:  10%|█         | 5/50 [20:36<3:02:09, 242.87s/it]"
     ]
    },
    {
     "name": "stdout",
     "output_type": "stream",
     "text": [
      "\n",
      "Epoch 005 train_loss: 0.6637     val_loss 0.6402 train_acc 0.6064 val_acc 0.5865\n",
      "loss 0.6651752687692642\n"
     ]
    },
    {
     "name": "stderr",
     "output_type": "stream",
     "text": [
      "epoch:  12%|█▏        | 6/50 [24:38<2:57:58, 242.69s/it]"
     ]
    },
    {
     "name": "stdout",
     "output_type": "stream",
     "text": [
      "\n",
      "Epoch 006 train_loss: 0.6652     val_loss 0.6507 train_acc 0.6034 val_acc 0.5630\n",
      "loss 0.6608425040841103\n"
     ]
    },
    {
     "name": "stderr",
     "output_type": "stream",
     "text": [
      "epoch:  14%|█▍        | 7/50 [28:35<2:52:41, 240.97s/it]"
     ]
    },
    {
     "name": "stdout",
     "output_type": "stream",
     "text": [
      "\n",
      "Epoch 007 train_loss: 0.6608     val_loss 0.6606 train_acc 0.6111 val_acc 0.5750\n",
      "loss 0.6564372145533561\n"
     ]
    },
    {
     "name": "stderr",
     "output_type": "stream",
     "text": [
      "epoch:  16%|█▌        | 8/50 [32:31<2:47:34, 239.39s/it]"
     ]
    },
    {
     "name": "stdout",
     "output_type": "stream",
     "text": [
      "\n",
      "Epoch 008 train_loss: 0.6564     val_loss 0.6275 train_acc 0.6189 val_acc 0.5890\n",
      "loss 0.6531242181062699\n"
     ]
    },
    {
     "name": "stderr",
     "output_type": "stream",
     "text": [
      "epoch:  18%|█▊        | 9/50 [36:29<2:43:15, 238.91s/it]"
     ]
    },
    {
     "name": "stdout",
     "output_type": "stream",
     "text": [
      "\n",
      "Epoch 009 train_loss: 0.6531     val_loss 0.6480 train_acc 0.6211 val_acc 0.6030\n",
      "loss 0.6491326312422753\n"
     ]
    },
    {
     "name": "stderr",
     "output_type": "stream",
     "text": [
      "epoch:  20%|██        | 10/50 [40:27<2:39:02, 238.56s/it]"
     ]
    },
    {
     "name": "stdout",
     "output_type": "stream",
     "text": [
      "\n",
      "Epoch 010 train_loss: 0.6491     val_loss 0.6330 train_acc 0.6329 val_acc 0.5925\n",
      "loss 0.64522440046072\n"
     ]
    },
    {
     "name": "stderr",
     "output_type": "stream",
     "text": [
      "epoch:  22%|██▏       | 11/50 [44:28<2:35:33, 239.33s/it]"
     ]
    },
    {
     "name": "stdout",
     "output_type": "stream",
     "text": [
      "\n",
      "Epoch 011 train_loss: 0.6452     val_loss 0.6275 train_acc 0.6311 val_acc 0.6000\n",
      "loss 0.6349696983098984\n"
     ]
    },
    {
     "name": "stderr",
     "output_type": "stream",
     "text": [
      "epoch:  24%|██▍       | 12/50 [48:24<2:31:01, 238.46s/it]"
     ]
    },
    {
     "name": "stdout",
     "output_type": "stream",
     "text": [
      "\n",
      "Epoch 012 train_loss: 0.6350     val_loss 0.6383 train_acc 0.6418 val_acc 0.5865\n",
      "loss 0.6275412952899933\n"
     ]
    },
    {
     "name": "stderr",
     "output_type": "stream",
     "text": [
      "epoch:  26%|██▌       | 13/50 [52:21<2:26:38, 237.81s/it]"
     ]
    },
    {
     "name": "stdout",
     "output_type": "stream",
     "text": [
      "\n",
      "Epoch 013 train_loss: 0.6275     val_loss 0.6963 train_acc 0.6569 val_acc 0.5235\n",
      "loss 0.6031902092695236\n"
     ]
    },
    {
     "name": "stderr",
     "output_type": "stream",
     "text": [
      "epoch:  28%|██▊       | 14/50 [56:18<2:22:36, 237.69s/it]"
     ]
    },
    {
     "name": "stdout",
     "output_type": "stream",
     "text": [
      "\n",
      "Epoch 014 train_loss: 0.6032     val_loss 0.6329 train_acc 0.6793 val_acc 0.6275\n",
      "loss 0.561530503809452\n"
     ]
    },
    {
     "name": "stderr",
     "output_type": "stream",
     "text": [
      "epoch:  30%|███       | 15/50 [1:00:15<2:18:29, 237.41s/it]"
     ]
    },
    {
     "name": "stdout",
     "output_type": "stream",
     "text": [
      "\n",
      "Epoch 015 train_loss: 0.5615     val_loss 0.6687 train_acc 0.7119 val_acc 0.5895\n",
      "loss 0.49398317447304724\n"
     ]
    },
    {
     "name": "stderr",
     "output_type": "stream",
     "text": [
      "epoch:  32%|███▏      | 16/50 [1:04:15<2:14:55, 238.11s/it]"
     ]
    },
    {
     "name": "stdout",
     "output_type": "stream",
     "text": [
      "\n",
      "Epoch 016 train_loss: 0.4940     val_loss 0.6933 train_acc 0.7649 val_acc 0.6215\n",
      "loss 0.4279047427177429\n"
     ]
    },
    {
     "name": "stderr",
     "output_type": "stream",
     "text": [
      "epoch:  34%|███▍      | 17/50 [1:08:12<2:10:47, 237.81s/it]"
     ]
    },
    {
     "name": "stdout",
     "output_type": "stream",
     "text": [
      "\n",
      "Epoch 017 train_loss: 0.4279     val_loss 0.7412 train_acc 0.8049 val_acc 0.6110\n",
      "loss 0.3784375833272934\n"
     ]
    },
    {
     "name": "stderr",
     "output_type": "stream",
     "text": [
      "epoch:  36%|███▌      | 18/50 [1:12:12<2:07:13, 238.56s/it]"
     ]
    },
    {
     "name": "stdout",
     "output_type": "stream",
     "text": [
      "\n",
      "Epoch 018 train_loss: 0.3784     val_loss 0.7952 train_acc 0.8245 val_acc 0.6065\n",
      "loss 0.338308432251215\n"
     ]
    },
    {
     "name": "stderr",
     "output_type": "stream",
     "text": [
      "epoch:  38%|███▊      | 19/50 [1:16:12<2:03:26, 238.91s/it]"
     ]
    },
    {
     "name": "stdout",
     "output_type": "stream",
     "text": [
      "\n",
      "Epoch 019 train_loss: 0.3383     val_loss 0.8709 train_acc 0.8501 val_acc 0.5730\n",
      "loss 0.3045918559581041\n"
     ]
    },
    {
     "name": "stderr",
     "output_type": "stream",
     "text": [
      "epoch:  40%|████      | 20/50 [1:20:09<1:59:08, 238.29s/it]"
     ]
    },
    {
     "name": "stdout",
     "output_type": "stream",
     "text": [
      "\n",
      "Epoch 020 train_loss: 0.3046     val_loss 0.9589 train_acc 0.8648 val_acc 0.5830\n",
      "loss 0.29174588042497634\n"
     ]
    },
    {
     "name": "stderr",
     "output_type": "stream",
     "text": [
      "epoch:  42%|████▏     | 21/50 [1:24:04<1:54:40, 237.25s/it]"
     ]
    },
    {
     "name": "stdout",
     "output_type": "stream",
     "text": [
      "\n",
      "Epoch 021 train_loss: 0.2917     val_loss 0.9717 train_acc 0.8752 val_acc 0.6225\n",
      "loss 0.27149746546149256\n"
     ]
    },
    {
     "name": "stderr",
     "output_type": "stream",
     "text": [
      "epoch:  44%|████▍     | 22/50 [1:27:59<1:50:24, 236.59s/it]"
     ]
    },
    {
     "name": "stdout",
     "output_type": "stream",
     "text": [
      "\n",
      "Epoch 022 train_loss: 0.2715     val_loss 0.9458 train_acc 0.8841 val_acc 0.5735\n",
      "loss 0.2581665475443006\n"
     ]
    },
    {
     "name": "stderr",
     "output_type": "stream",
     "text": [
      "epoch:  46%|████▌     | 23/50 [1:31:55<1:46:27, 236.58s/it]"
     ]
    },
    {
     "name": "stdout",
     "output_type": "stream",
     "text": [
      "\n",
      "Epoch 023 train_loss: 0.2582     val_loss 1.0900 train_acc 0.8932 val_acc 0.6135\n",
      "loss 0.23978525422513486\n"
     ]
    },
    {
     "name": "stderr",
     "output_type": "stream",
     "text": [
      "epoch:  48%|████▊     | 24/50 [1:35:54<1:42:48, 237.24s/it]"
     ]
    },
    {
     "name": "stdout",
     "output_type": "stream",
     "text": [
      "\n",
      "Epoch 024 train_loss: 0.2398     val_loss 1.0622 train_acc 0.9025 val_acc 0.5560\n",
      "loss 0.23122897593677044\n"
     ]
    },
    {
     "name": "stderr",
     "output_type": "stream",
     "text": [
      "epoch:  50%|█████     | 25/50 [1:39:48<1:38:29, 236.38s/it]"
     ]
    },
    {
     "name": "stdout",
     "output_type": "stream",
     "text": [
      "\n",
      "Epoch 025 train_loss: 0.2312     val_loss 0.9514 train_acc 0.9058 val_acc 0.5580\n",
      "loss 0.23344171485304832\n"
     ]
    },
    {
     "name": "stderr",
     "output_type": "stream",
     "text": [
      "epoch:  52%|█████▏    | 26/50 [1:43:44<1:34:29, 236.23s/it]"
     ]
    },
    {
     "name": "stdout",
     "output_type": "stream",
     "text": [
      "\n",
      "Epoch 026 train_loss: 0.2334     val_loss 1.0029 train_acc 0.9046 val_acc 0.5665\n",
      "loss 0.22982273330539466\n"
     ]
    },
    {
     "name": "stderr",
     "output_type": "stream",
     "text": [
      "epoch:  54%|█████▍    | 27/50 [1:47:39<1:30:25, 235.90s/it]"
     ]
    },
    {
     "name": "stdout",
     "output_type": "stream",
     "text": [
      "\n",
      "Epoch 027 train_loss: 0.2298     val_loss 0.9207 train_acc 0.9085 val_acc 0.5835\n",
      "loss 0.21149245687574147\n"
     ]
    },
    {
     "name": "stderr",
     "output_type": "stream",
     "text": [
      "epoch:  56%|█████▌    | 28/50 [1:51:35<1:26:29, 235.91s/it]"
     ]
    },
    {
     "name": "stdout",
     "output_type": "stream",
     "text": [
      "\n",
      "Epoch 028 train_loss: 0.2115     val_loss 1.3647 train_acc 0.9129 val_acc 0.5755\n",
      "loss 0.21993905007094144\n"
     ]
    },
    {
     "name": "stderr",
     "output_type": "stream",
     "text": [
      "epoch:  58%|█████▊    | 29/50 [1:55:32<1:22:40, 236.23s/it]"
     ]
    },
    {
     "name": "stdout",
     "output_type": "stream",
     "text": [
      "\n",
      "Epoch 029 train_loss: 0.2199     val_loss 1.1716 train_acc 0.9107 val_acc 0.5620\n",
      "loss 0.20316881865262984\n"
     ]
    },
    {
     "name": "stderr",
     "output_type": "stream",
     "text": [
      "epoch:  60%|██████    | 30/50 [1:59:29<1:18:46, 236.34s/it]"
     ]
    },
    {
     "name": "stdout",
     "output_type": "stream",
     "text": [
      "\n",
      "Epoch 030 train_loss: 0.2032     val_loss 1.0995 train_acc 0.9193 val_acc 0.5610\n",
      "loss 0.21337902200967074\n"
     ]
    },
    {
     "name": "stderr",
     "output_type": "stream",
     "text": [
      "epoch:  62%|██████▏   | 31/50 [2:03:31<1:15:26, 238.23s/it]"
     ]
    },
    {
     "name": "stdout",
     "output_type": "stream",
     "text": [
      "\n",
      "Epoch 031 train_loss: 0.2134     val_loss 1.0535 train_acc 0.9136 val_acc 0.5780\n",
      "loss 0.19610362108796836\n"
     ]
    },
    {
     "name": "stderr",
     "output_type": "stream",
     "text": [
      "epoch:  64%|██████▍   | 32/50 [2:07:26<1:11:10, 237.22s/it]"
     ]
    },
    {
     "name": "stdout",
     "output_type": "stream",
     "text": [
      "\n",
      "Epoch 032 train_loss: 0.1961     val_loss 1.0706 train_acc 0.9199 val_acc 0.6030\n",
      "loss 0.1985424093566835\n"
     ]
    },
    {
     "name": "stderr",
     "output_type": "stream",
     "text": [
      "epoch:  66%|██████▌   | 33/50 [2:11:22<1:07:04, 236.74s/it]"
     ]
    },
    {
     "name": "stdout",
     "output_type": "stream",
     "text": [
      "\n",
      "Epoch 033 train_loss: 0.1985     val_loss 0.9386 train_acc 0.9217 val_acc 0.5825\n",
      "loss 0.20827597149461508\n"
     ]
    },
    {
     "name": "stderr",
     "output_type": "stream",
     "text": [
      "epoch:  68%|██████▊   | 34/50 [2:15:17<1:03:00, 236.31s/it]"
     ]
    },
    {
     "name": "stdout",
     "output_type": "stream",
     "text": [
      "\n",
      "Epoch 034 train_loss: 0.2083     val_loss 0.9443 train_acc 0.9183 val_acc 0.5790\n",
      "loss 0.2067353815585375\n"
     ]
    },
    {
     "name": "stderr",
     "output_type": "stream",
     "text": [
      "epoch:  70%|███████   | 35/50 [2:19:17<59:18, 237.22s/it]"
     ]
    },
    {
     "name": "stdout",
     "output_type": "stream",
     "text": [
      "\n",
      "Epoch 035 train_loss: 0.2067     val_loss 0.9791 train_acc 0.9165 val_acc 0.5685\n",
      "loss 0.1919432689845562\n"
     ]
    },
    {
     "name": "stderr",
     "output_type": "stream",
     "text": [
      "epoch:  72%|███████▏  | 36/50 [2:23:13<55:16, 236.90s/it]"
     ]
    },
    {
     "name": "stdout",
     "output_type": "stream",
     "text": [
      "\n",
      "Epoch 036 train_loss: 0.1919     val_loss 1.2101 train_acc 0.9211 val_acc 0.5705\n",
      "loss 0.20010359524190427\n"
     ]
    },
    {
     "name": "stderr",
     "output_type": "stream",
     "text": [
      "epoch:  74%|███████▍  | 37/50 [2:27:15<51:42, 238.66s/it]"
     ]
    },
    {
     "name": "stdout",
     "output_type": "stream",
     "text": [
      "\n",
      "Epoch 037 train_loss: 0.2001     val_loss 1.0910 train_acc 0.9211 val_acc 0.5510\n",
      "loss 0.1971211454719305\n"
     ]
    },
    {
     "name": "stderr",
     "output_type": "stream",
     "text": [
      "epoch:  76%|███████▌  | 38/50 [2:31:15<47:48, 239.06s/it]"
     ]
    },
    {
     "name": "stdout",
     "output_type": "stream",
     "text": [
      "\n",
      "Epoch 038 train_loss: 0.1971     val_loss 1.1145 train_acc 0.9207 val_acc 0.5530\n",
      "loss 0.2014712328836322\n"
     ]
    },
    {
     "name": "stderr",
     "output_type": "stream",
     "text": [
      "epoch:  78%|███████▊  | 39/50 [2:35:12<43:41, 238.31s/it]"
     ]
    },
    {
     "name": "stdout",
     "output_type": "stream",
     "text": [
      "\n",
      "Epoch 039 train_loss: 0.2015     val_loss 1.2307 train_acc 0.9217 val_acc 0.5490\n",
      "loss 0.19264076347649098\n"
     ]
    },
    {
     "name": "stderr",
     "output_type": "stream",
     "text": [
      "epoch:  80%|████████  | 40/50 [2:39:08<39:35, 237.59s/it]"
     ]
    },
    {
     "name": "stdout",
     "output_type": "stream",
     "text": [
      "\n",
      "Epoch 040 train_loss: 0.1926     val_loss 1.1132 train_acc 0.9237 val_acc 0.5735\n",
      "loss 0.20214299800246954\n"
     ]
    },
    {
     "name": "stderr",
     "output_type": "stream",
     "text": [
      "epoch:  82%|████████▏ | 41/50 [2:43:12<35:56, 239.63s/it]"
     ]
    },
    {
     "name": "stdout",
     "output_type": "stream",
     "text": [
      "\n",
      "Epoch 041 train_loss: 0.2021     val_loss 1.1594 train_acc 0.9199 val_acc 0.5535\n",
      "loss 0.19575544783845544\n"
     ]
    },
    {
     "name": "stderr",
     "output_type": "stream",
     "text": [
      "epoch:  84%|████████▍ | 42/50 [2:47:12<31:58, 239.78s/it]"
     ]
    },
    {
     "name": "stdout",
     "output_type": "stream",
     "text": [
      "\n",
      "Epoch 042 train_loss: 0.1958     val_loss 1.2309 train_acc 0.9223 val_acc 0.5530\n",
      "loss 0.18289119851589203\n"
     ]
    },
    {
     "name": "stderr",
     "output_type": "stream",
     "text": [
      "epoch:  86%|████████▌ | 43/50 [2:51:09<27:51, 238.79s/it]"
     ]
    },
    {
     "name": "stdout",
     "output_type": "stream",
     "text": [
      "\n",
      "Epoch 043 train_loss: 0.1829     val_loss 0.9433 train_acc 0.9313 val_acc 0.5465\n",
      "loss 0.1909405935704708\n"
     ]
    },
    {
     "name": "stderr",
     "output_type": "stream",
     "text": [
      "epoch:  88%|████████▊ | 44/50 [2:55:06<23:49, 238.21s/it]"
     ]
    },
    {
     "name": "stdout",
     "output_type": "stream",
     "text": [
      "\n",
      "Epoch 044 train_loss: 0.1909     val_loss 1.0590 train_acc 0.9254 val_acc 0.5470\n",
      "loss 0.1922057539448142\n"
     ]
    },
    {
     "name": "stderr",
     "output_type": "stream",
     "text": [
      "epoch:  90%|█████████ | 45/50 [2:59:05<19:53, 238.64s/it]"
     ]
    },
    {
     "name": "stdout",
     "output_type": "stream",
     "text": [
      "\n",
      "Epoch 045 train_loss: 0.1922     val_loss 1.1360 train_acc 0.9257 val_acc 0.5600\n",
      "loss 0.19082968173921108\n"
     ]
    },
    {
     "name": "stderr",
     "output_type": "stream",
     "text": [
      "epoch:  92%|█████████▏| 46/50 [3:03:08<15:58, 239.70s/it]"
     ]
    },
    {
     "name": "stdout",
     "output_type": "stream",
     "text": [
      "\n",
      "Epoch 046 train_loss: 0.1908     val_loss 1.3728 train_acc 0.9266 val_acc 0.5630\n",
      "loss 0.1884261662438512\n"
     ]
    },
    {
     "name": "stderr",
     "output_type": "stream",
     "text": [
      "epoch:  94%|█████████▍| 47/50 [3:07:12<12:03, 241.23s/it]"
     ]
    },
    {
     "name": "stdout",
     "output_type": "stream",
     "text": [
      "\n",
      "Epoch 047 train_loss: 0.1884     val_loss 1.0674 train_acc 0.9313 val_acc 0.5625\n",
      "loss 0.19522661965340377\n"
     ]
    },
    {
     "name": "stderr",
     "output_type": "stream",
     "text": [
      "epoch:  96%|█████████▌| 48/50 [3:11:07<07:58, 239.38s/it]"
     ]
    },
    {
     "name": "stdout",
     "output_type": "stream",
     "text": [
      "\n",
      "Epoch 048 train_loss: 0.1952     val_loss 1.1090 train_acc 0.9254 val_acc 0.5790\n",
      "loss 0.20012850122153758\n"
     ]
    },
    {
     "name": "stderr",
     "output_type": "stream",
     "text": [
      "epoch:  98%|█████████▊| 49/50 [3:15:02<03:57, 237.89s/it]"
     ]
    },
    {
     "name": "stdout",
     "output_type": "stream",
     "text": [
      "\n",
      "Epoch 049 train_loss: 0.2001     val_loss 0.9982 train_acc 0.9253 val_acc 0.5780\n",
      "loss 0.1993083382099867\n"
     ]
    },
    {
     "name": "stderr",
     "output_type": "stream",
     "text": [
      "epoch: 100%|██████████| 50/50 [3:18:56<00:00, 238.74s/it]"
     ]
    },
    {
     "name": "stdout",
     "output_type": "stream",
     "text": [
      "\n",
      "Epoch 050 train_loss: 0.1993     val_loss 1.1153 train_acc 0.9301 val_acc 0.5710\n"
     ]
    },
    {
     "name": "stderr",
     "output_type": "stream",
     "text": [
      "\n"
     ]
    }
   ],
   "source": [
    "history = train(train_loader, test_loader, model)"
   ]
  },
  {
   "cell_type": "code",
   "execution_count": 39,
   "id": "1e9b77cd",
   "metadata": {
    "execution": {
     "iopub.execute_input": "2022-09-19T22:35:22.225337Z",
     "iopub.status.busy": "2022-09-19T22:35:22.225017Z",
     "iopub.status.idle": "2022-09-19T22:35:23.221987Z",
     "shell.execute_reply": "2022-09-19T22:35:23.220705Z"
    },
    "papermill": {
     "duration": 1.029123,
     "end_time": "2022-09-19T22:35:23.224474",
     "exception": false,
     "start_time": "2022-09-19T22:35:22.195351",
     "status": "completed"
    },
    "tags": []
   },
   "outputs": [],
   "source": [
    "!mkdir /kaggle/test"
   ]
  },
  {
   "cell_type": "code",
   "execution_count": 40,
   "id": "43cba808",
   "metadata": {
    "execution": {
     "iopub.execute_input": "2022-09-19T22:35:23.279672Z",
     "iopub.status.busy": "2022-09-19T22:35:23.278834Z",
     "iopub.status.idle": "2022-09-19T22:35:23.288388Z",
     "shell.execute_reply": "2022-09-19T22:35:23.287567Z"
    },
    "papermill": {
     "duration": 0.039085,
     "end_time": "2022-09-19T22:35:23.290452",
     "exception": false,
     "start_time": "2022-09-19T22:35:23.251367",
     "status": "completed"
    },
    "tags": []
   },
   "outputs": [],
   "source": [
    "def slicing(image_path, window_size = 512):\n",
    "    img = Image.open(image_path)\n",
    "    img_ar = np.array(img)\n",
    "    \n",
    "    x_limit = img_ar.shape[0] // window_size\n",
    "    y_limit = img_ar.shape[1] // window_size\n",
    "\n",
    "    for i in range(x_limit):\n",
    "        for j in range(y_limit):\n",
    "            slice_ = img_ar[window_size*i:window_size*(i+1),window_size*j:window_size*(j+1),:]\n",
    "            mean = slice_.mean()\n",
    "\n",
    "            if mean < 230:\n",
    "                \n",
    "                im = Image.fromarray(slice_)\n",
    "                im.save(f\"/kaggle/test/{image_path[-12:-4]}/{image_path[-12:-4]}:{i}-{j}.jpeg\")\n",
    "\n",
    "                del im, slice_ \n",
    "                gc.collect()\n",
    "\n",
    "            else:\n",
    "                \n",
    "                del slice_ \n",
    "                gc.collect()\n",
    "\n",
    "    del img_ar, img, x_limit, y_limit, mean, i, j, genaral_mean  \n",
    "    gc.collect()"
   ]
  },
  {
   "cell_type": "code",
   "execution_count": 41,
   "id": "1ab31296",
   "metadata": {
    "execution": {
     "iopub.execute_input": "2022-09-19T22:35:23.373083Z",
     "iopub.status.busy": "2022-09-19T22:35:23.372711Z",
     "iopub.status.idle": "2022-09-19T22:35:23.376824Z",
     "shell.execute_reply": "2022-09-19T22:35:23.375871Z"
    },
    "papermill": {
     "duration": 0.054981,
     "end_time": "2022-09-19T22:35:23.378945",
     "exception": false,
     "start_time": "2022-09-19T22:35:23.323964",
     "status": "completed"
    },
    "tags": []
   },
   "outputs": [],
   "source": [
    "#window_size = 1024\n",
    "#test_images = os.listdir(\"/kaggle/input/mayo-clinic-strip-ai/test\")\n",
    "\n",
    "#for i in test_images:\n",
    "#    print(i+': \\n')\n",
    "#    path = test_paths + '/' + i\n",
    "#    slicing(i, window_size = window_size)"
   ]
  }
 ],
 "metadata": {
  "kernelspec": {
   "display_name": "Python 3",
   "language": "python",
   "name": "python3"
  },
  "language_info": {
   "codemirror_mode": {
    "name": "ipython",
    "version": 3
   },
   "file_extension": ".py",
   "mimetype": "text/x-python",
   "name": "python",
   "nbconvert_exporter": "python",
   "pygments_lexer": "ipython3",
   "version": "3.7.12"
  },
  "papermill": {
   "default_parameters": {},
   "duration": 11960.788992,
   "end_time": "2022-09-19T22:35:26.251605",
   "environment_variables": {},
   "exception": null,
   "input_path": "__notebook__.ipynb",
   "output_path": "__notebook__.ipynb",
   "parameters": {},
   "start_time": "2022-09-19T19:16:05.462613",
   "version": "2.3.4"
  }
 },
 "nbformat": 4,
 "nbformat_minor": 5
}
